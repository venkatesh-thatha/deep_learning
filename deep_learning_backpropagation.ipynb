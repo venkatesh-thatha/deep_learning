{
  "nbformat": 4,
  "nbformat_minor": 0,
  "metadata": {
    "colab": {
      "provenance": []
    },
    "kernelspec": {
      "name": "python3",
      "display_name": "Python 3"
    },
    "language_info": {
      "name": "python"
    }
  },
  "cells": [
    {
      "cell_type": "code",
      "execution_count": 1,
      "metadata": {
        "id": "S6lcCE8zmVYf"
      },
      "outputs": [],
      "source": [
        "import numpy as np"
      ]
    },
    {
      "cell_type": "code",
      "source": [
        "def sigmoid(x):\n",
        "  return 1/(1+np.exp(-x))\n",
        "\n",
        "def sigmoid_derivative(x):\n",
        "  return x*(1-x)\n",
        "\n",
        "x=2\n",
        "y=1\n",
        "W1=0.2\n",
        "b1=0.3\n",
        "W2=0.6\n",
        "b2=0.9\n",
        "eta=0.1\n",
        "\n",
        "print(f\"initial parameters: W1= {W1} \\n b1= {b1} \\n W2= {W2} \\n b2= {b2} \\n\")\n",
        "\n",
        "\n",
        "a1=W1*x+b1\n",
        "h1=sigmoid(a1)\n",
        "\n",
        "a2=W2*h1 +b2\n",
        "y_hat=sigmoid(a1)\n",
        "\n",
        "print(f\"Forward Pass:\")\n",
        "print(f\"Prediction y_hat= {y_hat:.4F}\")\n",
        "\n",
        "\n",
        "loss=0.5*(y_hat-y)**2\n",
        "print(f\"Loss = {loss:.4f}\\n\")\n",
        "\n",
        "\n",
        "delta2=(y_hat-y)*sigmoid_derivative(y_hat)\n",
        "\n",
        "grad_W2= h1*delta2\n",
        "grad_b2=delta2\n",
        "\n",
        "delta1=(W2* delta2)* sigmoid_derivative(h1)\n",
        "grad_W1=x*delta1\n",
        "grad_b1=delta2\n",
        "\n",
        "\n",
        "print(\"BACKWARD PASS (Gradients):\")\n",
        "print(f\"∂L/∂W2 = {grad_W2:.4f}\")\n",
        "print(f\"∂L/∂b2 = {grad_b2:.4f}\")\n",
        "print(f\"∂L/∂W1 = {grad_W1:.4f}\")\n",
        "print(f\"∂L/∂b1 = {grad_b1:.4f}\\n\")\n",
        "\n",
        "\n",
        "W2 = W2 - eta * grad_W2\n",
        "b2 = b2 - eta * grad_b2\n",
        "W1 = W1 - eta * grad_W1\n",
        "b1 = b1 - eta * grad_b1\n",
        "\n",
        "print(\"UPDATED PARAMETERS:\")\n",
        "print(f\"New W1={W1:.4f}, New b1={b1:.4f}, New W2={W2:.4f}, New b2={b2:.4f}\")"
      ],
      "metadata": {
        "colab": {
          "base_uri": "https://localhost:8080/"
        },
        "id": "_GkCi63gmc32",
        "outputId": "4383892e-2cc8-4df0-ef46-757f6caeb8d8"
      },
      "execution_count": 6,
      "outputs": [
        {
          "output_type": "stream",
          "name": "stdout",
          "text": [
            "initial parameters: W1= 0.2 \n",
            " b1= 0.3 \n",
            " W2= 0.6 \n",
            " b2= 0.9 \n",
            "\n",
            "Forward Pass:\n",
            "Prediction y_hat= 0.6682\n",
            "Loss = 0.0550\n",
            "\n",
            "BACKWARD PASS (Gradients):\n",
            "∂L/∂W2 = -0.0492\n",
            "∂L/∂b2 = -0.0736\n",
            "∂L/∂W1 = -0.0196\n",
            "∂L/∂b1 = -0.0736\n",
            "\n",
            "UPDATED PARAMETERS:\n",
            "New W1=0.2020, New b1=0.3074, New W2=0.6049, New b2=0.9074\n"
          ]
        }
      ]
    },
    {
      "cell_type": "code",
      "source": [
        "def sigmoid(x):\n",
        "  return 1/(1+np.exp(-x))\n",
        "\n",
        "def sigmoid_derivative(x):\n",
        "  return x*(1-x)\n",
        "\n",
        "W1=0.5\n",
        "b1=0.1\n",
        "W2=0.8\n",
        "b2=0.2\n",
        "eta=0.1\n",
        "\n",
        "\n",
        "#---------forward pass-------\n",
        "a1=W1*x+b1\n",
        "h1=sigmoid(a1)\n",
        "\n",
        "\n",
        "\n",
        "a2=W2*h1+b2\n",
        "y_hat=sigmoid(a2)\n",
        "\n",
        "loss=0.5*(y_hat-y)**2\n",
        "\n",
        "print(f\"final prediction= {y_hat:.4f}\")\n",
        "print(f\"loss={loss:.4f}\")\n",
        "\n"
      ],
      "metadata": {
        "colab": {
          "base_uri": "https://localhost:8080/"
        },
        "id": "Hb7-gnRGpgL7",
        "outputId": "21a3fac9-5066-4900-c4ce-e4d7ef9c8b48"
      },
      "execution_count": 10,
      "outputs": [
        {
          "output_type": "stream",
          "name": "stdout",
          "text": [
            "final prediction= 0.6900\n",
            "loss=0.0480\n"
          ]
        }
      ]
    }
  ]
}